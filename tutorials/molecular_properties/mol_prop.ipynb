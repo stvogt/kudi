{
 "cells": [
  {
   "cell_type": "code",
   "execution_count": 1,
   "metadata": {},
   "outputs": [],
   "source": [
    "import sys\n",
    "%matplotlib inline\n",
    "import matplotlib.pyplot as plt\n",
    "sys.path.append('/home/stvogt/repos/kudi/kudi')"
   ]
  },
  {
   "cell_type": "markdown",
   "metadata": {},
   "source": [
    "# Extracting molecular properties with Kudi"
   ]
  },
  {
   "cell_type": "markdown",
   "metadata": {},
   "source": [
    "In this tutorial we will learn how to extract different molecular properties, like\n",
    "bond distances and orbital energies along a reaction path using the Kudi library.\n",
    "Kudi is an object oriented python library where all properties are \n",
    "extracted from the reaction object, so we will start by initializing \n",
    "the object using the output file from single point computations along \n",
    "a reaction coordinate:"
   ]
  },
  {
   "cell_type": "code",
   "execution_count": 2,
   "metadata": {},
   "outputs": [
    {
     "name": "stdout",
     "output_type": "stream",
     "text": [
      "Obtaining the single point blocks....\n",
      "Got it!\n",
      "----------------------------------------------------------\n"
     ]
    }
   ],
   "source": [
    "from kudi3 import Path\n",
    "Mol = Path('output_sp.dat')"
   ]
  },
  {
   "cell_type": "markdown",
   "metadata": {},
   "source": [
    "The reaction we will study is a proton transfer reaction within the HSNO molecule. We can look at\n",
    "the reaction if we extract the xyz Cartesian coordinates of each point from the output file\n",
    "and than use molden to generate a animated gif."
   ]
  },
  {
   "cell_type": "code",
   "execution_count": 3,
   "metadata": {},
   "outputs": [
    {
     "name": "stdout",
     "output_type": "stream",
     "text": [
      "Saving XYZ info in molden format\n",
      "----------------------------------------------------------\n"
     ]
    }
   ],
   "source": [
    "Mol.saveXYZ(format_=\"molden\")"
   ]
  },
  {
   "cell_type": "code",
   "execution_count": 4,
   "metadata": {},
   "outputs": [],
   "source": [
    "#from IPython.display import HTML\n",
    "#HTML('<img src=\"./movie.gif\">')"
   ]
  },
  {
   "cell_type": "markdown",
   "metadata": {},
   "source": [
    "\n",
    "Before proceeding to the extraction of the molecular properties let's plot the reaction energy which \n",
    "is easily done using the .energy() method. "
   ]
  },
  {
   "cell_type": "code",
   "execution_count": 5,
   "metadata": {},
   "outputs": [],
   "source": [
    "energy = Mol.energy()"
   ]
  },
  {
   "cell_type": "markdown",
   "metadata": {},
   "source": [
    "\"energy\" is a dictionary containing both the information about the energy and reaction coordinate, so it\n",
    "is fairly easy to plot using matplotlib."
   ]
  },
  {
   "cell_type": "code",
   "execution_count": 6,
   "metadata": {},
   "outputs": [
    {
     "data": {
      "text/plain": [
       "[<matplotlib.lines.Line2D at 0x7f19c4dbdc50>]"
      ]
     },
     "execution_count": 6,
     "metadata": {},
     "output_type": "execute_result"
    }
   ],
   "source": [
    "plt.plot(energy[\"Reaction Coordinate\"],energy[\"Energy\"])"
   ]
  },
  {
   "cell_type": "markdown",
   "metadata": {},
   "source": [
    "Or we can use the build in plotting function:"
   ]
  },
  {
   "cell_type": "code",
   "execution_count": 7,
   "metadata": {},
   "outputs": [
    {
     "name": "stdout",
     "output_type": "stream",
     "text": [
      "Generating the plot with the savePlot...\n",
      "Saving the plot in ./figures as energy.svg\n",
      "----------------------------------------------------------\n"
     ]
    }
   ],
   "source": [
    "Mol.savePlot('energy.svg',\"Energy\",**energy, show=True)"
   ]
  },
  {
   "cell_type": "markdown",
   "metadata": {},
   "source": [
    "## Bond distances and angles"
   ]
  },
  {
   "cell_type": "markdown",
   "metadata": {},
   "source": [
    "First we will start by plotting some key bond distances for this reaction. To do this, we need to know \n",
    "the labeling on each atom. This is provided when calling the distance method."
   ]
  },
  {
   "cell_type": "code",
   "execution_count": 8,
   "metadata": {},
   "outputs": [
    {
     "name": "stdout",
     "output_type": "stream",
     "text": [
      "----Distances---\n",
      "H1-S2  2.3929364759711027\n",
      "H1-N3  1.9072903676960151\n",
      "H1-O4  0.9986025005461382\n",
      "S2-H1  2.3929364759711027\n",
      "S2-N3  1.6043161915548318\n",
      "S2-O4  2.5032551529622387\n",
      "N3-H1  1.9072903676960151\n",
      "N3-S2  1.6043161915548318\n",
      "N3-O4  1.3527079289857808\n",
      "O4-H1  0.9986025005461382\n",
      "O4-S2  2.5032551529622387\n",
      "O4-N3  1.3527079289857808\n"
     ]
    }
   ],
   "source": [
    "dis0 = Mol.distances()"
   ]
  },
  {
   "cell_type": "markdown",
   "metadata": {},
   "source": [
    "The shown distances are the bond distance at the beginning of the reaction. Alternatively, the atom labels can be looked up in any molecular visualizer and the desired bond distances\n",
    "to be plotted can be specified directly within the distance method. This is important for large molecules, where it \n",
    "becomes impossible to list all possible the bond distances and angles"
   ]
  },
  {
   "cell_type": "code",
   "execution_count": 9,
   "metadata": {},
   "outputs": [
    {
     "name": "stdout",
     "output_type": "stream",
     "text": [
      "----Distances---\n",
      "H1-O4  0.9986025005461382\n",
      "H1-S2  2.3929364759711027\n",
      "S2-N3  1.6043161915548318\n",
      "O4-N3  1.3527079289857808\n"
     ]
    }
   ],
   "source": [
    "dis1 = Mol.distances(['H1-O4','H1-S2','S2-N3','O4-N3'])"
   ]
  },
  {
   "cell_type": "markdown",
   "metadata": {},
   "source": [
    "The same procedure can be used to obtain the relevant angles by the angles method"
   ]
  },
  {
   "cell_type": "code",
   "execution_count": 10,
   "metadata": {},
   "outputs": [
    {
     "name": "stdout",
     "output_type": "stream",
     "text": [
      "----Angles---\n",
      "O4-N3-S2  115.41332522255024\n"
     ]
    }
   ],
   "source": [
    "ang = Mol.angles(['O4-N3-S2'])"
   ]
  },
  {
   "cell_type": "markdown",
   "metadata": {},
   "source": [
    "Now we can plot the bond distances. First we will plot the distances and angles seperately. "
   ]
  },
  {
   "cell_type": "code",
   "execution_count": 11,
   "metadata": {},
   "outputs": [
    {
     "name": "stdout",
     "output_type": "stream",
     "text": [
      "Generating the plot with the savePlotProps...\n",
      "Saving the plot in ./figures as bnd_distances1.png\n",
      "----------------------------------------------------------\n"
     ]
    }
   ],
   "source": [
    "Mol.savePlotProps(\"bnd_distances1.png\",\"Distance\",[\"H1-O4\",\"H1-S2\"], Show=True, **dis1)"
   ]
  },
  {
   "cell_type": "code",
   "execution_count": 12,
   "metadata": {},
   "outputs": [
    {
     "name": "stdout",
     "output_type": "stream",
     "text": [
      "Generating the plot with the savePlotProps...\n",
      "Saving the plot in ./figures as bnd_distances2.png\n",
      "----------------------------------------------------------\n"
     ]
    }
   ],
   "source": [
    "Mol.savePlotProps(\"bnd_distances2.png\",\"Distance\",['S2-N3','O4-N3'], Show=True, **dis1)"
   ]
  },
  {
   "cell_type": "code",
   "execution_count": 13,
   "metadata": {},
   "outputs": [
    {
     "name": "stdout",
     "output_type": "stream",
     "text": [
      "Generating the plot with the savePlotProps...\n",
      "Saving the plot in ./figures as bnd_distances2.png\n",
      "----------------------------------------------------------\n"
     ]
    }
   ],
   "source": [
    "Mol.savePlotProps(\"bnd_distances2.png\",\"Distance\",['O4-N3-S2'], Show=True, **ang)"
   ]
  },
  {
   "cell_type": "markdown",
   "metadata": {},
   "source": [
    "If you do not want to use the build in plotting functions you can use the save method, to save\n",
    " the desired geometric parameters in a csv file. These can be\n",
    "proceed with pandas or any other data analytics program. "
   ]
  },
  {
   "cell_type": "code",
   "execution_count": 14,
   "metadata": {},
   "outputs": [
    {
     "name": "stdout",
     "output_type": "stream",
     "text": [
      "Saving the data in: energy.dat\n",
      "----------------------------------------------------------\n",
      "Saving the data in: dis.dat\n",
      "----------------------------------------------------------\n",
      "Saving the data in: ang.dat\n",
      "----------------------------------------------------------\n"
     ]
    }
   ],
   "source": [
    "Mol.save('energy.dat',**energy)\n",
    "Mol.save('dis.dat',**dis1)\n",
    "Mol.save('ang.dat',**ang)"
   ]
  },
  {
   "cell_type": "markdown",
   "metadata": {},
   "source": [
    "## Plotting orbital energies"
   ]
  },
  {
   "cell_type": "markdown",
   "metadata": {},
   "source": [
    "Now that we know how the structural parameters change along the reaction coordinate, we proceed to \n",
    "analyze the change in the orbital energies for this proton transfer reaction. In order to do so \n",
    "we need to obtain the orbital energies using the "
   ]
  },
  {
   "cell_type": "code",
   "execution_count": 15,
   "metadata": {},
   "outputs": [
    {
     "name": "stdout",
     "output_type": "stream",
     "text": [
      "The HOMO corresponds to orbital number: 16\n"
     ]
    }
   ],
   "source": [
    "orb = Mol.all_orbtitals()\n",
    "\n",
    "homo_lumo = Mol.HOMO_LUMO()"
   ]
  },
  {
   "cell_type": "markdown",
   "metadata": {},
   "source": [
    "The first methods extracts all orbital energies and saves them in a dictionary with orbital numbers as keys (0 -> lowest energy orbital). The HOMO_LUMO method only returns the HOMO and LUMO energies in a dictionary with \"HOMO\" and \"LUMO\" as keys. Now that we have the orbital energy data we can proceed to plot it. We use \n",
    "the same savePlotProps method as we did with the bond distances only now the object is orbital energies"
   ]
  },
  {
   "cell_type": "code",
   "execution_count": 16,
   "metadata": {},
   "outputs": [
    {
     "name": "stdout",
     "output_type": "stream",
     "text": [
      "Generating the plot with the savePlotProps...\n",
      "Saving the plot in ./figures as orbitals1.png\n",
      "----------------------------------------------------------\n"
     ]
    }
   ],
   "source": [
    "Mol.savePlotProps(\"orbitals1.png\",\"$\\epsilon$\",[\"HOMO\",\"LUMO\"], show=True, **homo_lumo)"
   ]
  },
  {
   "cell_type": "markdown",
   "metadata": {},
   "source": [
    "Here is the plot of the HOMO and HOMO-1, using different bullets."
   ]
  },
  {
   "cell_type": "code",
   "execution_count": 17,
   "metadata": {},
   "outputs": [
    {
     "name": "stdout",
     "output_type": "stream",
     "text": [
      "Generating the plot with the savePlotProps...\n",
      "Saving the plot in ./figures as orbitals1.png\n",
      "----------------------------------------------------------\n"
     ]
    }
   ],
   "source": [
    "Mol.savePlotProps(\"orbitals1.png\",\"$\\epsilon$\",['15','14'], bullets=['g-','k^'], show=True, **orb)"
   ]
  },
  {
   "cell_type": "markdown",
   "metadata": {},
   "source": [
    "## Combining different porperties\n",
    "\n",
    "To finish this tutorial we will use a very neat method that allows to compare two different properties on different \n",
    "scales. To do that let's first extract two additional porperties, the Wiberg bond orders and the natural charges:"
   ]
  },
  {
   "cell_type": "code",
   "execution_count": 18,
   "metadata": {},
   "outputs": [
    {
     "name": "stdout",
     "output_type": "stream",
     "text": [
      "------------Charges-------------\n",
      "O4\n",
      "----------- Bonds ----------\n",
      "O4-N3\n"
     ]
    }
   ],
   "source": [
    "charges = Mol.natCharges(['O4'])\n",
    "bnd_ord = Mol.bondOrders(['O4-N3'])"
   ]
  },
  {
   "cell_type": "markdown",
   "metadata": {},
   "source": [
    "First we verify if we extracted the bond order and charges correctly:"
   ]
  },
  {
   "cell_type": "code",
   "execution_count": 19,
   "metadata": {},
   "outputs": [
    {
     "name": "stdout",
     "output_type": "stream",
     "text": [
      "Generating the plot with the savePlotProps...\n",
      "Saving the plot in ./figures as charges.svg\n",
      "----------------------------------------------------------\n",
      "Generating the plot with the savePlotProps...\n",
      "Saving the plot in ./figures as bnd.svg\n",
      "----------------------------------------------------------\n"
     ]
    }
   ],
   "source": [
    "Mol.savePlotProps(\"charges.svg\", \"Charge\", ['O4'], show=True, **charges)\n",
    "Mol.savePlotProps(\"bnd.svg\", \"Bnd\", ['O4-N3'], show=True, **bnd_ord)"
   ]
  },
  {
   "cell_type": "code",
   "execution_count": 20,
   "metadata": {},
   "outputs": [
    {
     "name": "stdout",
     "output_type": "stream",
     "text": [
      "Generationg the plot with the savePlotDual...\n",
      "Generating the plot....\n",
      "Saving the plot in ./figures as multi.svg\n",
      "----------------------------------------------------------\n"
     ]
    }
   ],
   "source": [
    "\n",
    "#Mol.savePlotDual(\"multi.svg\", \"Bnd Order\", \"Charges\", dictos=[bnd_ord,charges], limit_list1 = [1.0,2.0],limit_list2 = [-0.4,-0.2], Show = True)\n",
    "Mol.savePlotDual(\"multi.svg\", \"Bnd Order\", \"Charges\", dictos=[bnd_ord,charges],  show = True)"
   ]
  },
  {
   "cell_type": "markdown",
   "metadata": {},
   "source": [
    "#### Have fun exploring chemical reactions with Kudi, and let me know of any bugs that you might encounter."
   ]
  },
  {
   "cell_type": "code",
   "execution_count": null,
   "metadata": {},
   "outputs": [],
   "source": []
  }
 ],
 "metadata": {
  "kernelspec": {
   "display_name": "Python 3",
   "language": "python",
   "name": "python3"
  },
  "language_info": {
   "codemirror_mode": {
    "name": "ipython",
    "version": 3
   },
   "file_extension": ".py",
   "mimetype": "text/x-python",
   "name": "python",
   "nbconvert_exporter": "python",
   "pygments_lexer": "ipython3",
   "version": "3.5.5"
  }
 },
 "nbformat": 4,
 "nbformat_minor": 2
}
