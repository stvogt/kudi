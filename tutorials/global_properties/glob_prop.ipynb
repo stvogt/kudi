{
 "cells": [
  {
   "cell_type": "code",
   "execution_count": 1,
   "metadata": {},
   "outputs": [],
   "source": [
    "import sys\n",
    "%matplotlib inline\n",
    "import matplotlib.pyplot as plt\n",
    "#sys.path.append('/home/stvogt/repos/kudi/kudi')"
   ]
  },
  {
   "cell_type": "markdown",
   "metadata": {},
   "source": [
    "# Global molecular properties "
   ]
  },
  {
   "cell_type": "markdown",
   "metadata": {},
   "source": [
    "In this tutorial we will learn how to extract global molecular properties such as reaccion energies\n",
    "or chemical potential using the Kudi reactio path library. We will start by importing the Path\n",
    "class from the kudi library, and create a reaction path object from the output file which contains \n",
    "single point computation along the reaction path."
   ]
  },
  {
   "cell_type": "code",
   "execution_count": 2,
   "metadata": {},
   "outputs": [
    {
     "name": "stdout",
     "output_type": "stream",
     "text": [
      "Obtaining the single point blocks....\n",
      "Got it!\n",
      "----------------------------------------------------------\n"
     ]
    }
   ],
   "source": [
    "from kudi import Path\n",
    "\n",
    "Mol = Path(\"output_sp.dat\")"
   ]
  },
  {
   "cell_type": "markdown",
   "metadata": {},
   "source": [
    "In this tutorial we will study the symmetric Sn2 reaction of flouromethane. To visulize the reaction we can extract\n",
    "the xyz coordinates from the reaccion object *Mol*, using the *saveXYZ* method. This will save the xyz coordinates\n",
    "of the reacction in a format that is readable to the [Molden program](http://www.cmbi.ru.nl/molden/). "
   ]
  },
  {
   "cell_type": "code",
   "execution_count": 3,
   "metadata": {},
   "outputs": [
    {
     "name": "stdout",
     "output_type": "stream",
     "text": [
      "Saving XYZ info in molden format\n",
      "----------------------------------------------------------\n"
     ]
    }
   ],
   "source": [
    "Mol.saveXYZ(format_=\"molden\")"
   ]
  },
  {
   "cell_type": "code",
   "execution_count": 4,
   "metadata": {},
   "outputs": [
    {
     "data": {
      "text/html": [
       "<img src=\"./movie2.gif\">"
      ],
      "text/plain": [
       "<IPython.core.display.HTML object>"
      ]
     },
     "execution_count": 4,
     "metadata": {},
     "output_type": "execute_result"
    }
   ],
   "source": [
    "from IPython.display import HTML\n",
    "HTML('<img src=\"./movie2.gif\">')"
   ]
  },
  {
   "cell_type": "markdown",
   "metadata": {},
   "source": [
    "Now we proceed to extract the reaction energy. This is fairly straigtforward as it can be done in one line using the\n",
    "energy method:"
   ]
  },
  {
   "cell_type": "code",
   "execution_count": 5,
   "metadata": {},
   "outputs": [],
   "source": [
    "enrg = Mol.energy()"
   ]
  },
  {
   "cell_type": "markdown",
   "metadata": {},
   "source": [
    "*enrg* is a [python dictionary](https://www.w3schools.com/python/python_dictionaries.asp)  that holds to items,\n",
    "one it the reaction energy which has the key \"Energy\", whose values are a [python list](https://www.w3schools.com/python/python_lists.asp) of the realtive reaction energies, the other item is the reaction coordinate which has the \n",
    "key \"Reaction Coordinate\" and holds a list with the all the reacction coordinates. To ilustrate the structure \n",
    "of *enrg* we can loop through the keys and values:"
   ]
  },
  {
   "cell_type": "code",
   "execution_count": 6,
   "metadata": {},
   "outputs": [
    {
     "name": "stdout",
     "output_type": "stream",
     "text": [
      "Reaction Coordinate\n",
      "Energy\n"
     ]
    }
   ],
   "source": [
    "for key in enrg.keys():\n",
    "    print(key)\n"
   ]
  },
  {
   "cell_type": "code",
   "execution_count": 7,
   "metadata": {},
   "outputs": [
    {
     "name": "stdout",
     "output_type": "stream",
     "text": [
      "[-2.97381, -2.903, -2.83218, -2.76137, -2.69056, -2.61975, -2.54894, -2.47815, -2.40737, -2.3366, -2.26584, -2.19508, -2.1243, -2.05352, -1.98273, -1.91193, -1.84112, -1.77032, -1.6995, -1.62869, -1.55788, -1.48707, -1.41625, -1.34544, -1.27463, -1.20381, -1.133, -1.06219, -0.99137, -0.92056, -0.84975, -0.77893, -0.70812, -0.63731, -0.5665, -0.49568, -0.42487, -0.35406, -0.28325, -0.21244, -0.14163, -0.07083, 0.0, 0.07083, 0.14163, 0.21244, 0.28325, 0.35406, 0.42487, 0.49568, 0.5665, 0.63731, 0.70812, 0.77893, 0.84975, 0.92056, 0.99137, 1.06219, 1.133, 1.20381, 1.27463, 1.34544, 1.41625, 1.48707, 1.55788, 1.62869, 1.6995, 1.77032, 1.84112, 1.91193, 1.98273, 2.05352, 2.1243, 2.19508, 2.26584, 2.3366, 2.40737, 2.47815, 2.54894, 2.61975, 2.69056, 2.76137, 2.83218, 2.903, 2.97381]\n",
      "---------------------------------------\n",
      "[-239.70224433, -239.702107176, -239.701958754, -239.701798689, -239.701626523, -239.701441758, -239.70124367, -239.701031216, -239.700802626, -239.700555258, -239.700285467, -239.699989218, -239.699662804, -239.699303797, -239.698911466, -239.698486731, -239.69803183, -239.697550098, -239.697045458, -239.69652228, -239.695985064, -239.695438334, -239.694886702, -239.694334523, -239.693786056, -239.693245326, -239.692716051, -239.692201859, -239.691706045, -239.691231681, -239.690781622, -239.690358426, -239.689964423, -239.689601746, -239.689272289, -239.688977746, -239.688719535, -239.688498956, -239.688317037, -239.688174662, -239.688072486, -239.688010986, -239.687990445, -239.688010986, -239.688072486, -239.688174662, -239.688317037, -239.688498956, -239.688719535, -239.688977746, -239.689272289, -239.689601746, -239.689964423, -239.690358426, -239.690781622, -239.691231681, -239.691706045, -239.692201859, -239.692716051, -239.693245326, -239.693786056, -239.694334523, -239.694886702, -239.695438334, -239.695985064, -239.69652228, -239.697045458, -239.697550098, -239.69803183, -239.698486731, -239.698911466, -239.699303797, -239.699662804, -239.699989218, -239.700285467, -239.700555258, -239.700802626, -239.701031216, -239.70124367, -239.701441758, -239.701626523, -239.701798689, -239.701958754, -239.702107176, -239.70224433]\n",
      "---------------------------------------\n"
     ]
    }
   ],
   "source": [
    "for val in enrg.values():\n",
    "    print(val)\n",
    "    print('---------------------------------------')"
   ]
  },
  {
   "cell_type": "markdown",
   "metadata": {},
   "source": [
    "The first array here corresponds to the reaction coordiante while the second is the reaction energy. Now we can proceed to construct the plot. Kudi has several matplotlib wrapper functions to plot properties along a reaction coordinate, which are highly custumizable. We will use the *savePlot* function to construct a simple energy plot from the *enrg*\n",
    "dictionary. "
   ]
  },
  {
   "cell_type": "code",
   "execution_count": 8,
   "metadata": {
    "scrolled": true
   },
   "outputs": [
    {
     "name": "stdout",
     "output_type": "stream",
     "text": [
      "Generating the plot with the savePlot...\n",
      "Saving the plot in ./figures as energy.svg\n",
      "----------------------------------------------------------\n"
     ]
    },
    {
     "data": {
      "image/png": "[encoded data removed]",
      "text/plain": [
       "<matplotlib.figure.Figure at 0x7f73b89faf28>"
      ]
     },
     "metadata": {
      "needs_background": "light"
     },
     "output_type": "display_data"
    },
    {
     "data": {
      "text/plain": [
       "<matplotlib.figure.Figure at 0x7f73b034ca90>"
      ]
     },
     "metadata": {},
     "output_type": "display_data"
    }
   ],
   "source": [
    "Mol.savePlot(\"energy.svg\", \"Energy\", show = True, **enrg)"
   ]
  },
  {
   "cell_type": "markdown",
   "metadata": {},
   "source": [
    "There are several things that can be costumized e.g. bullet type/color, y-axis limits,..."
   ]
  },
  {
   "cell_type": "code",
   "execution_count": null,
   "metadata": {},
   "outputs": [],
   "source": [
    "Mol.savePlot(\"energy.svg\", 'kcal/mol', limit_list=[-1,15],  bullets=['g-'], yspacing = 3.0, show = True,  **enrg)"
   ]
  },
  {
   "cell_type": "markdown",
   "metadata": {},
   "source": [
    "If you want to use another plotting suite or a different data proccesing library like [Pandas](https://pandas.pydata.org/), you can export the data contained in the *enrg* or any Kudi dictionary\n",
    "to a cvs file:"
   ]
  },
  {
   "cell_type": "code",
   "execution_count": null,
   "metadata": {},
   "outputs": [],
   "source": [
    "Mol.save('energy.dat',**enrg)"
   ]
  },
  {
   "cell_type": "markdown",
   "metadata": {},
   "source": [
    "We can further analyze the the energetics of this reaction by obtaining the derivative of the energy profile,\n",
    "the so called **reaction force**:\n",
    "\n",
    "$$\n",
    "F(\\xi) = -\\frac{dE}{d\\xi}\n",
    "$$"
   ]
  },
  {
   "cell_type": "code",
   "execution_count": null,
   "metadata": {},
   "outputs": [],
   "source": [
    "force = Mol.force() \n",
    "Mol.savePlot(\"force.svg\", \"Force\", show = True, work=True, **force)"
   ]
  },
  {
   "cell_type": "markdown",
   "metadata": {},
   "source": [
    "The reaction works within the four regions delimited by the transition state and the extrema of \n",
    "the reaction force profile can also be computed with kudi, and saved as a text file or a latex\n",
    "table in the folder *data*."
   ]
  },
  {
   "cell_type": "code",
   "execution_count": null,
   "metadata": {},
   "outputs": [],
   "source": [
    "Mol.ReactionWorks(format_='latex')"
   ]
  },
  {
   "cell_type": "markdown",
   "metadata": {},
   "source": [
    "Now that we have sucesfully plotted the reaction energy, we can proceed to plot other global properties of \n",
    "this reaction like the chemical potential. "
   ]
  },
  {
   "cell_type": "code",
   "execution_count": null,
   "metadata": {},
   "outputs": [],
   "source": [
    "chemPot = Mol.chemPotKoopman()\n",
    "Mol.savePlot(\"chempot.svg\", \"Chemical Potential\", show=True, **chemPot)"
   ]
  },
  {
   "cell_type": "markdown",
   "metadata": {},
   "source": [
    "Finally to get a better insight into the change in the electron density along a reaction path, we will\n",
    "plot the reaction electronic flux (REF), which is a niffty indicator of the electron localization/delocalization\n",
    "processes along a chemical reaction. It is defiend as :\n",
    "\n",
    "$$\n",
    "J(\\xi) = -\\frac{d\\mu}{d\\xi}\n",
    "$$\n",
    "\n",
    "Where $\\mu$ is the electronic chemical potential we just plotted. A negative chemical potential is associated \n",
    "with electron localization while a positve value means that electron density delocalization processes is \n",
    "predominant. "
   ]
  },
  {
   "cell_type": "code",
   "execution_count": null,
   "metadata": {},
   "outputs": [],
   "source": [
    "flux = Mol.flux(chemPot)\n",
    "Mol.savePlot(\"flux.svg\", \"Flux\", show=True, work=True, **flux)"
   ]
  },
  {
   "cell_type": "markdown",
   "metadata": {},
   "source": [
    "We can see that going towards the transition state, the electron density delocalizes across the supermolecule, while \n",
    "passed the TS the electron density is localized to its original state, as to be expected from a symmetric Sn2 reaction. Note that for the definition of the *flux* dicttionary it is necessary to specify a chemical potential variable. This is necessary\n",
    "since the chemical potential can also be computed using finite differences. This can also be done with Kudi and will\n",
    "be ilustrated in a future tutorial. \n",
    "\n",
    "#### Have fun exploring chemical reactions with Kudi, and let me know of any bugs that you might encounter."
   ]
  },
  {
   "cell_type": "code",
   "execution_count": null,
   "metadata": {},
   "outputs": [],
   "source": []
  },
  {
   "cell_type": "code",
   "execution_count": null,
   "metadata": {},
   "outputs": [],
   "source": []
  },
  {
   "cell_type": "code",
   "execution_count": null,
   "metadata": {},
   "outputs": [],
   "source": []
  }
 ],
 "metadata": {
  "kernelspec": {
   "display_name": "Python 3",
   "language": "python",
   "name": "python3"
  },
  "language_info": {
   "codemirror_mode": {
    "name": "ipython",
    "version": 3
   },
   "file_extension": ".py",
   "mimetype": "text/x-python",
   "name": "python",
   "nbconvert_exporter": "python",
   "pygments_lexer": "ipython3",
   "version": "3.5.4"
  }
 },
 "nbformat": 4,
 "nbformat_minor": 2
}
